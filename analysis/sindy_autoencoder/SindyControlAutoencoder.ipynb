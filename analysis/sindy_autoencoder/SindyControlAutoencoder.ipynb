{
 "cells": [
  {
   "cell_type": "markdown",
   "metadata": {
    "collapsed": true,
    "pycharm": {
     "name": "#%% md\n"
    }
   },
   "source": [
    "## Imports"
   ]
  },
  {
   "cell_type": "code",
   "execution_count": 1,
   "outputs": [],
   "source": [
    "import os\n",
    "import numpy as np\n",
    "import jax.numpy as jnp\n",
    "import matplotlib.pyplot as plt\n",
    "from analysis.chiefinvestigation import Chiefinvestigator\n",
    "from analysis.sindy_autoencoder import control_autoencoder, utils\n",
    "from jax.experimental import optimizers\n",
    "from jax import random\n",
    "import time\n",
    "import pickle\n",
    "\n",
    "os.chdir(\"../../\")  # remove if you want to search for ids in the analysis directory\n",
    "os.environ['TF_CPP_MIN_LOG_LEVEL'] = '3'"
   ],
   "metadata": {
    "collapsed": false,
    "pycharm": {
     "name": "#%%\n"
    }
   }
  },
  {
   "cell_type": "markdown",
   "source": [
    "## Generate Training and Testing Data from Episodes\n",
    "One Episode of InvertedPendulum (MuJoCoEnv) lasts 1000 timesteps. E.g. 500 episodes generate 500,000 \n",
    "timesteps to be used as training and testing datasets.\n",
    "\n",
    "\n",
    "`dx` is computed using `np.gradient()`. This is equivalent to `pysindy.FiniteDifference()`. It is worth noting however\n",
    "that e.g. `MuJoCo` can introduce some noise into the data. Although this is considered negligible for small enivorenments,\n",
    "it may be advised to go with a method that is more robust towards noisy data."
   ],
   "metadata": {
    "collapsed": false
   }
  },
  {
   "cell_type": "code",
   "execution_count": 2,
   "outputs": [
    {
     "name": "stdout",
     "output_type": "stream",
     "text": [
      "storage/saved_models/states//1607352660\n",
      "Loading from iteration best.\n",
      "Using CombiWrapper('StateNormalizationWrapper', 'RewardNormalizationWrapper') for preprocessing.\n",
      "SIMULATED 500 episodes\n"
     ]
    }
   ],
   "source": [
    "agent_id = 1607352660 # inverted pendulum no vel, continuous action\n",
    "\n",
    "chiefinv = Chiefinvestigator(agent_id)\n",
    "# collect data from episodes\n",
    "n_episodes = 500\n",
    "activations_all_episodes, inputs_all_episodes, actions_all_episodes, states_all_episodes, _ \\\n",
    "    = chiefinv.get_data_over_episodes(n_episodes, \"policy_recurrent_layer\", chiefinv.get_layer_names()[1])\n",
    "print(f\"SIMULATED {n_episodes} episodes\")\n",
    "\n",
    "# create training and testing datasets\n",
    "training_size = int(len(inputs_all_episodes) * 0.8)\n",
    "dx = np.gradient(activations_all_episodes, axis=0)\n",
    "training_data = {'x': activations_all_episodes[:training_size, :],\n",
    "                 'dx': dx[:training_size, :],\n",
    "                 'u': inputs_all_episodes[:training_size, :]}\n",
    "testing_data = {'x': activations_all_episodes[training_size:, :],\n",
    "                'dx': dx[training_size:, :],\n",
    "                'u': inputs_all_episodes[training_size:, :]}\n",
    "# TODO: visualize the data"
   ],
   "metadata": {
    "collapsed": false,
    "pycharm": {
     "name": "#%%\n"
    }
   }
  },
  {
   "cell_type": "markdown",
   "source": [
    "## Set up SindyControlAutoencoder "
   ],
   "metadata": {
    "collapsed": false,
    "pycharm": {
     "name": "#%% md\n"
    }
   }
  },
  {
   "cell_type": "code",
   "execution_count": 4,
   "outputs": [],
   "source": [
    "layers = [64, 32, 8, 4]\n",
    "poly_order = 2\n",
    "lib_size = utils.library_size(layers[-1], poly_order, include_control=True)\n",
    "key = random.PRNGKey(123)\n",
    "\n",
    "thresholding_frequency, coefficient_theshold = 500, 0.1\n",
    "hps = {'system_loss_coeff': 1,\n",
    "       'control_loss_coeff': 1,\n",
    "       'dx_loss_weight': 1e-4,\n",
    "       'dz_loss_weight': 1e-6,\n",
    "       'reg_loss_weight': 1e-5}\n",
    "\n",
    "batch_size = 5000\n",
    "num_batches = int(jnp.ceil(len(training_data['x']) / batch_size))\n",
    "import pickle\n",
    "init_params, coefficient_mask = control_autoencoder.build_sindy_control_autoencoder(layers, lib_size, key)\n",
    "training_data_file = open(\"training_data.pkl\", \"wb\")\n",
    "pickle.dump(training_data, training_data_file)#\n",
    "training_data_file.close()\n",
    "\n",
    "testing_data_file = open(\"testing_data.pkl\", \"wb\")\n",
    "pickle.dump(testing_data, testing_data_file)\n",
    "testing_data_file.close()"
   ],
   "metadata": {
    "collapsed": false,
    "pycharm": {
     "name": "#%%\n"
    }
   }
  },
  {
   "cell_type": "markdown",
   "source": [
    "## Plot Coefficients and Coefficient Mask\n",
    "For now `sindy coefficients` and `coefficient mask` are homogenously initalized to `1`."
   ],
   "metadata": {
    "collapsed": false,
    "pycharm": {
     "name": "#%% md\n"
    }
   }
  },
  {
   "cell_type": "code",
   "execution_count": 5,
   "outputs": [
    {
     "data": {
      "text/plain": "<Figure size 432x288 with 2 Axes>",
      "image/png": "[encoded data removed]"
     },
     "metadata": {
      "needs_background": "light"
     },
     "output_type": "display_data"
    }
   ],
   "source": [
    "control_autoencoder.plot_params(init_params, coefficient_mask)"
   ],
   "metadata": {
    "collapsed": false,
    "pycharm": {
     "name": "#%%\n"
    }
   }
  },
  {
   "cell_type": "markdown",
   "source": [
    "## Set up Optimizer"
   ],
   "metadata": {
    "collapsed": false,
    "pycharm": {
     "name": "#%% md\n"
    }
   }
  },
  {
   "cell_type": "code",
   "execution_count": 6,
   "outputs": [],
   "source": [
    "learning_rate = 1e-3\n",
    "opt_init, opt_update, get_params = optimizers.adam(learning_rate)\n",
    "opt_state = opt_init(init_params)"
   ],
   "metadata": {
    "collapsed": false,
    "pycharm": {
     "name": "#%%\n"
    }
   }
  },
  {
   "cell_type": "markdown",
   "source": [
    "## Train the networks"
   ],
   "metadata": {
    "collapsed": false,
    "pycharm": {
     "name": "#%% md\n"
    }
   }
  },
  {
   "cell_type": "code",
   "execution_count": 7,
   "outputs": [
    {
     "name": "stdout",
     "output_type": "stream",
     "text": [
      "Epoch 0 | Loss 0.46327731013298035 | Updates 0 | This took: 4.6211s\n",
      "Epoch 200 | Loss 0.04317479953169823 | Updates 16000 | This took: 46.2679s\n",
      "Epoch 400 | Loss 0.017954399809241295 | Updates 32000 | This took: 45.8835s\n",
      "Updated coefficient mask\n",
      "Epoch 600 | Loss 0.006877200212329626 | Updates 48000 | This took: 51.7295s\n",
      "Epoch 800 | Loss 0.005032400134950876 | Updates 64000 | This took: 46.8002s\n",
      "Updated coefficient mask\n",
      "Epoch 1000 | Loss 0.00432930001989007 | Updates 80000 | This took: 44.9742s\n",
      "Epoch 1200 | Loss 0.003848399966955185 | Updates 96000 | This took: 45.6287s\n",
      "Epoch 1400 | Loss 0.0033903999719768763 | Updates 112000 | This took: 44.872s\n",
      "Updated coefficient mask\n",
      "Epoch 1600 | Loss 0.003104900009930134 | Updates 128000 | This took: 45.0123s\n",
      "Epoch 1800 | Loss 0.0029206001199781895 | Updates 144000 | This took: 44.9468s\n",
      "Updated coefficient mask\n",
      "Epoch 2000 | Loss 0.0027618000749498606 | Updates 160000 | This took: 44.9007s\n",
      "Epoch 2200 | Loss 0.0026476001366972923 | Updates 176000 | This took: 44.9997s\n",
      "Epoch 2400 | Loss 0.0025571000296622515 | Updates 192000 | This took: 45.0944s\n",
      "Updated coefficient mask\n",
      "Epoch 2600 | Loss 0.0025013000704348087 | Updates 208000 | This took: 44.9565s\n",
      "Epoch 2800 | Loss 0.0024634001310914755 | Updates 224000 | This took: 44.9352s\n",
      "Updated coefficient mask\n",
      "Epoch 3000 | Loss 0.0024359000381082296 | Updates 240000 | This took: 44.9464s\n",
      "Epoch 3200 | Loss 0.002410799963399768 | Updates 256000 | This took: 44.9071s\n",
      "Epoch 3400 | Loss 0.002390200039371848 | Updates 272000 | This took: 44.9641s\n",
      "Updated coefficient mask\n",
      "Epoch 3600 | Loss 0.0023753999266773462 | Updates 288000 | This took: 45.6594s\n",
      "Epoch 3800 | Loss 0.002360499929636717 | Updates 304000 | This took: 47.5292s\n",
      "Updated coefficient mask\n",
      "Epoch 4000 | Loss 0.0023447000421583652 | Updates 320000 | This took: 47.1211s\n",
      "Epoch 4200 | Loss 0.00232889992184937 | Updates 336000 | This took: 50.3384s\n",
      "Epoch 4400 | Loss 0.0023129999171942472 | Updates 352000 | This took: 46.5198s\n",
      "Updated coefficient mask\n",
      "Epoch 4600 | Loss 0.002297899918630719 | Updates 368000 | This took: 47.9476s\n",
      "Epoch 4800 | Loss 0.002284199930727482 | Updates 384000 | This took: 47.8219s\n",
      "FINISHING TRAINING...\n",
      "Sparsity: 4 active terms\n"
     ]
    }
   ],
   "source": [
    "n_epochs, n_refine_epochs = 5000, 1000\n",
    "print_every = 200 # epochs\n",
    "all_train_losses = []\n",
    "\n",
    "start_time = time.time()\n",
    "for epoch in range(n_epochs):\n",
    "    for batch in range(num_batches):\n",
    "        ids = utils.batch_indices(batch, num_batches, batch_size)\n",
    "        opt_state = control_autoencoder.update_jit(batch, opt_state, opt_update, get_params,\n",
    "                                                   training_data['x'][ids, :],\n",
    "                                                   training_data['dx'][ids, :],\n",
    "                                                   training_data['u'][ids, :], coefficient_mask, hps)\n",
    "\n",
    "    params = get_params(opt_state)\n",
    "    if epoch % thresholding_frequency == 0 and epoch > 1:\n",
    "        coefficient_mask = jnp.abs(params['sindy_coefficients']) > coefficient_theshold\n",
    "        print(\"Updated coefficient mask\")\n",
    "\n",
    "    all_train_losses.append(control_autoencoder.loss_jit(params,\n",
    "                                                         training_data['x'][:batch_size, :],\n",
    "                                                         training_data['dx'][:batch_size, :],\n",
    "                                                         training_data['u'][:batch_size, :], coefficient_mask, hps))\n",
    "    if epoch % print_every == 0:\n",
    "        utils.print_update(all_train_losses[-1]['total'], epoch, epoch*num_batches, time.time() - start_time)\n",
    "        start_time = time.time()\n",
    "\n",
    "print(f\"FINISHING TRAINING...\\n\"\n",
    "      f\"Sparsity: {jnp.sum(coefficient_mask)} active terms\")\n",
    "\n",
    "all_train_losses = {k: [dic[k] for dic in all_train_losses] for k in all_train_losses[0]}"
   ],
   "metadata": {
    "collapsed": false,
    "pycharm": {
     "name": "#%%\n"
    }
   }
  },
  {
   "cell_type": "markdown",
   "source": [
    "## Plot Training Losses"
   ],
   "metadata": {
    "collapsed": false,
    "pycharm": {
     "name": "#%% md\n"
    }
   }
  },
  {
   "cell_type": "code",
   "execution_count": 8,
   "outputs": [
    {
     "data": {
      "text/plain": "<Figure size 432x288 with 5 Axes>",
      "image/png": "[encoded data removed]"
     },
     "metadata": {
      "needs_background": "light"
     },
     "output_type": "display_data"
    }
   ],
   "source": [
    "time_steps = np.linspace(0, n_epochs, n_epochs)\n",
    "plt.figure()\n",
    "plt.subplot(231)\n",
    "plt.plot(time_steps, all_train_losses['total'], 'k')\n",
    "plt.title('Total Loss')\n",
    "\n",
    "plt.subplot(232)\n",
    "plt.plot(time_steps, all_train_losses['sys_loss'], 'r', label='System')\n",
    "plt.plot(time_steps, all_train_losses['control_loss'], 'g', label='Control')\n",
    "plt.legend()\n",
    "plt.title('Reconstruction Losses')\n",
    "\n",
    "plt.subplot(233)\n",
    "plt.plot(time_steps, all_train_losses['sindy_z_loss'], 'b')\n",
    "plt.title('Sindy z loss')\n",
    "\n",
    "plt.subplot(234)\n",
    "plt.plot(time_steps, all_train_losses['sindy_x_loss'], 'g')\n",
    "plt.title('Sindy x loss')\n",
    "\n",
    "plt.subplot(235)\n",
    "plt.plot(time_steps, all_train_losses['sindy_regularization_loss'], 'r')\n",
    "plt.title('L2 Loss')\n",
    "plt.show()"
   ],
   "metadata": {
    "collapsed": false,
    "pycharm": {
     "name": "#%%\n"
    }
   }
  },
  {
   "cell_type": "markdown",
   "source": [
    "## Refinement Training"
   ],
   "metadata": {
    "collapsed": false,
    "pycharm": {
     "name": "#%% md\n"
    }
   }
  },
  {
   "cell_type": "code",
   "execution_count": 12,
   "outputs": [
    {
     "name": "stdout",
     "output_type": "stream",
     "text": [
      "REFINEMENT...\n",
      "Epoch 0 | Loss 0.0022718999534845352 | Updates 0 | This took: 3.8022s\n",
      "Epoch 200 | Loss 0.002261300105601549 | Updates 16000 | This took: 45.26s\n",
      "Epoch 400 | Loss 0.0022517999168485403 | Updates 32000 | This took: 44.9182s\n",
      "Epoch 600 | Loss 0.002242499962449074 | Updates 48000 | This took: 44.9137s\n",
      "Epoch 800 | Loss 0.0022354000248014927 | Updates 64000 | This took: 44.8805s\n"
     ]
    }
   ],
   "source": [
    "hps['reg_loss_weight'] = 0 # no regularization\n",
    "print('REFINEMENT...')\n",
    "all_refine_losses = []\n",
    "\n",
    "start_time = time.time()\n",
    "for epoch in range(n_refine_epochs):\n",
    "    for batch in range(num_batches):\n",
    "        ids = utils.batch_indices(batch, num_batches, batch_size)\n",
    "        opt_state = control_autoencoder.update_jit(batch, opt_state, opt_update, get_params,\n",
    "                                                   training_data['x'][ids, :],\n",
    "                                                   training_data['dx'][ids, :],\n",
    "                                                   training_data['u'][ids, :], coefficient_mask, hps)\n",
    "\n",
    "    all_refine_losses.append(control_autoencoder.loss_jit(get_params(opt_state),\n",
    "                                                          training_data['x'][:batch_size, :],\n",
    "                                                          training_data['dx'][:batch_size, :],\n",
    "                                                          training_data['u'][:batch_size, :], coefficient_mask, hps))\n",
    "    if epoch % print_every == 0:\n",
    "        utils.print_update(all_refine_losses[-1]['total'], epoch, epoch*num_batches, time.time() - start_time)\n",
    "        start_time = time.time()\n",
    "\n",
    "all_refine_losses = {k: [dic[k] for dic in all_refine_losses] for k in all_refine_losses[0]}"
   ],
   "metadata": {
    "collapsed": false,
    "pycharm": {
     "name": "#%%\n"
    }
   }
  },
  {
   "cell_type": "markdown",
   "source": [
    "## Testing"
   ],
   "metadata": {
    "collapsed": false,
    "pycharm": {
     "name": "#%% md\n"
    }
   }
  },
  {
   "cell_type": "code",
   "execution_count": 13,
   "outputs": [
    {
     "name": "stdout",
     "output_type": "stream",
     "text": [
      "Loss on large test batch: 0.0020939998794347048\n"
     ]
    }
   ],
   "source": [
    "params = get_params(opt_state)\n",
    "test_batch_size = 10000 # 10 episodes\n",
    "test_loss = control_autoencoder.loss_jit(params,\n",
    "                                         testing_data['x'][:test_batch_size, :],\n",
    "                                         testing_data['dx'][:test_batch_size, :],\n",
    "                                         testing_data['u'][:test_batch_size, :],\n",
    "                                         coefficient_mask, hps)['total']\n",
    "print(f\"Loss on large test batch: {round(test_loss, 6)}\")"
   ],
   "metadata": {
    "collapsed": false,
    "pycharm": {
     "name": "#%%\n"
    }
   }
  },
  {
   "cell_type": "markdown",
   "source": [
    "## Visualizations"
   ],
   "metadata": {
    "collapsed": false,
    "pycharm": {
     "name": "#%% md\n"
    }
   }
  },
  {
   "cell_type": "code",
   "execution_count": 14,
   "outputs": [
    {
     "data": {
      "text/plain": "<Figure size 720x1440 with 1 Axes>",
      "image/png": "[encoded data removed]"
     },
     "metadata": {
      "needs_background": "light"
     },
     "output_type": "display_data"
    }
   ],
   "source": [
    "zlabels = ['z1', 'z2', 'z3', 'z4']\n",
    "ulabels = ['y1', 'y2', 'y3', 'y4']\n",
    "latex_labels = [r'$\\dot{z1}$', r'$\\dot{z2}$', r'$\\dot{z3}$', r'$\\dot{z4}$']\n",
    "xlabels, ylabels = utils.generate_labels(zlabels, ulabels, poly_order)\n",
    "\n",
    "fig= plt.figure(figsize=(10, 20))\n",
    "plt.spy(coefficient_mask * params['sindy_coefficients'],\n",
    "        marker='o', markersize=10, aspect='auto')\n",
    "plt.xticks([0, 1, 2, 3], latex_labels, size=12)\n",
    "yticks = list(np.arange(len(coefficient_mask)))\n",
    "plt.yticks(yticks, ylabels, size=12)\n",
    "plt.show()\n",
    "#plt.subplot(122)\n",
    "#plt.imshow(coefficient_mask * params['sindy_coefficients'])\n",
    "#plt.axis('off')\n",
    "#plt.colorbar()\n",
    "#plt.show()"
   ],
   "metadata": {
    "collapsed": false,
    "pycharm": {
     "name": "#%%\n"
    }
   }
  },
  {
   "cell_type": "code",
   "execution_count": 15,
   "outputs": [
    {
     "name": "stdout",
     "output_type": "stream",
     "text": [
      "[0 -0.21060086786747*z1 + 0.288454979658127*z3y2 0\n",
      " 0.230849623680115*z1 + 0.152435258030891*z2z2]\n"
     ]
    }
   ],
   "source": [
    "# Print Sparse State Equations\n",
    "from sympy import symbols\n",
    "theta_syms = symbols(ylabels)\n",
    "dz_syms = symbols(latex_labels)\n",
    "\n",
    "expr = np.matmul(theta_syms, coefficient_mask * params['sindy_coefficients'])\n",
    "print(expr)"
   ],
   "metadata": {
    "collapsed": false,
    "pycharm": {
     "name": "#%%\n"
    }
   }
  },
  {
   "cell_type": "code",
   "execution_count": null,
   "outputs": [],
   "source": [
    "# Visualize Dynamics\n",
    "vis_batch_size = 2000"
   ],
   "metadata": {
    "collapsed": false,
    "pycharm": {
     "name": "#%%\n"
    }
   }
  },
  {
   "cell_type": "code",
   "execution_count": null,
   "outputs": [],
   "source": [
    "# Interpret latent variables"
   ],
   "metadata": {
    "collapsed": false,
    "pycharm": {
     "name": "#%%\n"
    }
   }
  },
  {
   "cell_type": "markdown",
   "source": [
    "## Plug in SindySystem\n",
    "Let the Sindy dynamics compute actions to be applied in the environment."
   ],
   "metadata": {
    "collapsed": false,
    "pycharm": {
     "name": "#%% md\n"
    }
   }
  },
  {
   "cell_type": "code",
   "execution_count": null,
   "outputs": [],
   "source": [
    "# do it with submodelfrom and submodelto"
   ],
   "metadata": {
    "collapsed": false,
    "pycharm": {
     "name": "#%%\n"
    }
   }
  }
 ],
 "metadata": {
  "kernelspec": {
   "display_name": "Python 3",
   "language": "python",
   "name": "python3"
  },
  "language_info": {
   "codemirror_mode": {
    "name": "ipython",
    "version": 2
   },
   "file_extension": ".py",
   "mimetype": "text/x-python",
   "name": "python",
   "nbconvert_exporter": "python",
   "pygments_lexer": "ipython2",
   "version": "2.7.6"
  }
 },
 "nbformat": 4,
 "nbformat_minor": 0
}