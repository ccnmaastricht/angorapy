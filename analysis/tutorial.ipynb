{
 "cells": [],
 "metadata": {
  "kernelspec": {
   "display_name": "Python 3",
   "language": "python",
   "name": "python3"
  },
  "language_info": {
   "codemirror_mode": {
    "name": "ipython",
    "version": 2
   },
   "file_extension": ".py",
   "mimetype": "text/x-python",
   "name": "python",
   "nbconvert_exporter": "python",
   "pygments_lexer": "ipython2",
   "version": "2.7.6"
  },
  "pycharm": {
   "stem_cell": {
    "cell_type": "raw",
    "source": [
     "\n",
     "\n",
     "\n",
     "\n",
     "\n",
     "import gym\n",
     "import tensorflow as tf\n",
     "\n",
     "\n",
     "from agent.ppo import PPOAgent\n",
     "from models import build_rnn_distinct_models\n",
     "\n",
     "env = gym.make(\"CartPole-v1\")\n",
     "model_builder = build_rnn_distinct_models\n",
     "agent = PPOAgent(model_builder, env, horizon=1024, workers=2)\n",
     "\n",
     "agent.drill(10, 3, 2)\n",
     "\n",
     "agent.evaluate(5, ray_already_initialized=True)\n",
     "\n",
     "\n"
    ],
    "metadata": {
     "collapsed": false
    }
   }
  }
 },
 "nbformat": 4,
 "nbformat_minor": 0
}