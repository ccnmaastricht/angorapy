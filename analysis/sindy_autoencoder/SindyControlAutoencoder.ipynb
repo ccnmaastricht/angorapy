{
 "cells": [
  {
   "cell_type": "markdown",
   "metadata": {
    "collapsed": true,
    "pycharm": {
     "name": "#%% md\n"
    }
   },
   "source": [
    "## Imports"
   ]
  },
  {
   "cell_type": "code",
   "execution_count": 1,
   "outputs": [
    {
     "data": {
      "text/plain": "'/home/raphael/Code/dexterous-robot-hand'"
     },
     "execution_count": 1,
     "metadata": {},
     "output_type": "execute_result"
    }
   ],
   "source": [
    "import os\n",
    "import numpy as np\n",
    "import jax.numpy as jnp\n",
    "import matplotlib.pyplot as plt\n",
    "from analysis.chiefinvestigation import Chiefinvestigator\n",
    "from analysis.sindy_autoencoder import control_autoencoder, utils\n",
    "from jax.experimental import optimizers\n",
    "from jax import random\n",
    "import time\n",
    "\n",
    "os.chdir(\"../../\")  # remove if you want to search for ids in the analysis directory\n",
    "os.environ['TF_CPP_MIN_LOG_LEVEL'] = '3'\n",
    "os.getcwd()"
   ],
   "metadata": {
    "collapsed": false,
    "pycharm": {
     "name": "#%%\n"
    }
   }
  },
  {
   "cell_type": "markdown",
   "source": [
    "## Generate Training and Testing Data from Episodes\n",
    "One Episode of InvertedPendulum (MuJoCoEnv) lasts 1000 timesteps. E.g. 500 episodes generate 500,000 \n",
    "timesteps to be used as training and testing datasets."
   ],
   "metadata": {
    "collapsed": false
   }
  },
  {
   "cell_type": "code",
   "execution_count": 2,
   "outputs": [
    {
     "name": "stdout",
     "output_type": "stream",
     "text": [
      "storage/saved_models/states//1607352660\n",
      "Loading from iteration best.\n",
      "Using CombiWrapper('StateNormalizationWrapper', 'RewardNormalizationWrapper') for preprocessing.\n",
      "SIMULATED 20 episodes\n"
     ]
    }
   ],
   "source": [
    "agent_id = 1607352660 # inverted pendulum no vel, continuous action\n",
    "\n",
    "chiefinv = Chiefinvestigator(agent_id)\n",
    "# collect data from episodes\n",
    "n_episodes = 20\n",
    "activations_all_episodes, inputs_all_episodes, actions_all_episodes, states_all_episodes, _ \\\n",
    "    = chiefinv.get_data_over_episodes(n_episodes, \"policy_recurrent_layer\", chiefinv.get_layer_names()[1])\n",
    "print(f\"SIMULATED {n_episodes} episodes\")\n",
    "\n",
    "# create training and testing datasets\n",
    "training_size = int(len(inputs_all_episodes) * 0.8)\n",
    "dx = np.gradient(activations_all_episodes, axis=0)\n",
    "training_data = {'x': activations_all_episodes[:training_size, :],\n",
    "                 'dx': dx[:training_size, :],\n",
    "                 'u': inputs_all_episodes[:training_size, :]}\n",
    "testing_data = {'x': activations_all_episodes[training_size:, :],\n",
    "                'dx': dx[training_size:, :],\n",
    "                'u': inputs_all_episodes[training_size:, :]}\n",
    "# TODO: visualize the data"
   ],
   "metadata": {
    "collapsed": false,
    "pycharm": {
     "name": "#%%\n"
    }
   }
  },
  {
   "cell_type": "markdown",
   "source": [
    "## Set up SindyControlAutoencoder "
   ],
   "metadata": {
    "collapsed": false,
    "pycharm": {
     "name": "#%% md\n"
    }
   }
  },
  {
   "cell_type": "code",
   "execution_count": 3,
   "outputs": [],
   "source": [
    "layers = [64, 32, 8, 4]\n",
    "poly_order = 2\n",
    "lib_size = control_autoencoder.library_size(layers[-1], poly_order, include_control=True)\n",
    "key = random.PRNGKey(123)\n",
    "\n",
    "thresholding_frequency, coefficient_theshold = 500, 0.1\n",
    "hps = {'system_loss_coeff': 1,\n",
    "       'control_loss_coeff': 1,\n",
    "       'dx_loss_weight': 1e-4,\n",
    "       'dz_loss_weight': 1e-6,\n",
    "       'reg_loss_weight': 1e-5}\n",
    "\n",
    "batch_size = 2000\n",
    "num_batches = int(jnp.ceil(len(training_data['x']) / batch_size))\n",
    "\n",
    "init_params, coefficient_mask = control_autoencoder.build_sindy_control_autoencoder(layers, lib_size, key)"
   ],
   "metadata": {
    "collapsed": false,
    "pycharm": {
     "name": "#%%\n"
    }
   }
  },
  {
   "cell_type": "markdown",
   "source": [
    "## Plot Coefficients and Coefficient Mask"
   ],
   "metadata": {
    "collapsed": false,
    "pycharm": {
     "name": "#%% md\n"
    }
   }
  },
  {
   "cell_type": "code",
   "execution_count": 4,
   "outputs": [
    {
     "data": {
      "text/plain": "<Figure size 432x288 with 2 Axes>",
      "image/png": "[encoded data removed]"
     },
     "metadata": {
      "needs_background": "light"
     },
     "output_type": "display_data"
    }
   ],
   "source": [
    "control_autoencoder.plot_params(init_params, coefficient_mask)"
   ],
   "metadata": {
    "collapsed": false,
    "pycharm": {
     "name": "#%%\n"
    }
   }
  },
  {
   "cell_type": "markdown",
   "source": [
    "## Set up Optimizer"
   ],
   "metadata": {
    "collapsed": false,
    "pycharm": {
     "name": "#%% md\n"
    }
   }
  },
  {
   "cell_type": "code",
   "execution_count": 5,
   "outputs": [],
   "source": [
    "learning_rate = 1e-3\n",
    "opt_init, opt_update, get_params = optimizers.adam(learning_rate)\n",
    "opt_state = opt_init(init_params)"
   ],
   "metadata": {
    "collapsed": false,
    "pycharm": {
     "name": "#%%\n"
    }
   }
  },
  {
   "cell_type": "markdown",
   "source": [
    "## Train the networks"
   ],
   "metadata": {
    "collapsed": false,
    "pycharm": {
     "name": "#%% md\n"
    }
   }
  },
  {
   "cell_type": "code",
   "execution_count": 9,
   "outputs": [
    {
     "name": "stdout",
     "output_type": "stream",
     "text": [
      "Epoch 1 | Loss 0.17161770164966583 | Updates 0 | This took: 0.0212s\n",
      "Epoch 201 | Loss 0.09464020282030106 | Updates 1600 | This took: 3.193s\n",
      "Epoch 401 | Loss 0.06476189941167831 | Updates 3200 | This took: 3.0262s\n",
      "FINISHING TRAINING...\n",
      "Sparsity: 180.0 active terms\n"
     ]
    }
   ],
   "source": [
    "n_epochs, n_refine_epochs = 500, 100\n",
    "print_every = 200 # epochs\n",
    "all_train_losses = []\n",
    "\n",
    "start_time = time.time()\n",
    "for epoch in range(n_epochs):\n",
    "    for batch in range(num_batches):\n",
    "        ids = utils.batch_indices(batch, num_batches, batch_size)\n",
    "        opt_state = control_autoencoder.update_jit(batch, opt_state, opt_update, get_params,\n",
    "                                                   training_data['x'][ids, :],\n",
    "                                                   training_data['dx'][ids, :],\n",
    "                                                   training_data['u'][ids, :], coefficient_mask, hps)\n",
    "\n",
    "    params = get_params(opt_state)\n",
    "    if epoch % thresholding_frequency == 0 and epoch > 1:\n",
    "        coefficient_mask = jnp.abs(params['sindy_coefficients']) > coefficient_theshold\n",
    "        print(\"Updated coefficient mask\")\n",
    "\n",
    "    all_train_losses.append(control_autoencoder.loss_jit(params,\n",
    "                                                         training_data['x'][:batch_size, :],\n",
    "                                                         training_data['dx'][:batch_size, :],\n",
    "                                                         training_data['u'][:batch_size, :], coefficient_mask, hps))\n",
    "    if epoch % print_every == 0:\n",
    "        utils.print_update(all_train_losses[-1]['total'], epoch, epoch*num_batches, time.time() - start_time)\n",
    "        start_time = time.time()\n",
    "\n",
    "print(f\"FINISHING TRAINING...\\n\"\n",
    "      f\"Sparsity: {jnp.sum(coefficient_mask)} active terms\")\n",
    "\n",
    "all_train_losses = {k: [dic[k] for dic in all_train_losses] for k in all_train_losses[0]}"
   ],
   "metadata": {
    "collapsed": false,
    "pycharm": {
     "name": "#%%\n"
    }
   }
  },
  {
   "cell_type": "markdown",
   "source": [
    "## Plot Training Losses"
   ],
   "metadata": {
    "collapsed": false,
    "pycharm": {
     "name": "#%% md\n"
    }
   }
  },
  {
   "cell_type": "code",
   "execution_count": 12,
   "outputs": [
    {
     "data": {
      "text/plain": "<Figure size 432x288 with 5 Axes>",
      "image/png": "[encoded data removed]"
     },
     "metadata": {
      "needs_background": "light"
     },
     "output_type": "display_data"
    }
   ],
   "source": [
    "time_steps = np.linspace(0, n_epochs, n_epochs)\n",
    "plt.figure()\n",
    "plt.subplot(231)\n",
    "plt.plot(time_steps, all_train_losses['total'], 'k')\n",
    "plt.title('Total Loss')\n",
    "\n",
    "plt.subplot(232)\n",
    "plt.plot(time_steps, all_train_losses['sys_loss'], 'r', label='System')\n",
    "plt.plot(time_steps, all_train_losses['control_loss'], 'g', label='Control')\n",
    "plt.legend()\n",
    "plt.title('Reconstruction Losses')\n",
    "\n",
    "plt.subplot(233)\n",
    "plt.plot(time_steps, all_train_losses['sindy_z_loss'], 'b')\n",
    "plt.title('Sindy z loss')\n",
    "\n",
    "plt.subplot(234)\n",
    "plt.plot(time_steps, all_train_losses['sindy_x_loss'], 'g')\n",
    "plt.title('Sindy x loss')\n",
    "\n",
    "plt.subplot(235)\n",
    "plt.plot(time_steps, all_train_losses['sindy_regularization_loss'], 'r')\n",
    "plt.title('L2 Loss')\n",
    "plt.show()"
   ],
   "metadata": {
    "collapsed": false,
    "pycharm": {
     "name": "#%%\n"
    }
   }
  },
  {
   "cell_type": "markdown",
   "source": [
    "## Refinement Training"
   ],
   "metadata": {
    "collapsed": false,
    "pycharm": {
     "name": "#%% md\n"
    }
   }
  },
  {
   "cell_type": "code",
   "execution_count": null,
   "outputs": [],
   "source": [
    "hps['reg_loss_weight'] = 0 # no regularization\n",
    "print('REFINEMENT...')\n",
    "all_refine_losses = []\n",
    "\n",
    "start_time = time.time()\n",
    "for epoch in range(n_refine_epochs):\n",
    "    for batch in range(num_batches):\n",
    "        ids = utils.batch_indices(batch, num_batches, batch_size)\n",
    "        opt_state = control_autoencoder.update_jit(batch, opt_state, opt_update, get_params,\n",
    "                                                   training_data['x'][ids, :],\n",
    "                                                   training_data['dx'][ids, :],\n",
    "                                                   training_data['u'][ids, :], coefficient_mask, hps)\n",
    "\n",
    "    all_refine_losses.append(control_autoencoder.loss_jit(get_params(opt_state),\n",
    "                                                          training_data['x'][:batch_size, :],\n",
    "                                                          training_data['dx'][:batch_size, :],\n",
    "                                                          training_data['u'][:batch_size, :], coefficient_mask, hps))\n",
    "\n",
    "    utils.print_update(all_train_losses[-1]['total'], epoch, epoch*num_batches, time.time() - start_time)\n",
    "    start_time = time.time()\n",
    "\n",
    "all_refine_losses = {k: [dic[k] for dic in all_refine_losses] for k in all_refine_losses[0]}"
   ],
   "metadata": {
    "collapsed": false,
    "pycharm": {
     "name": "#%%\n"
    }
   }
  },
  {
   "cell_type": "markdown",
   "source": [
    "## Testing"
   ],
   "metadata": {
    "collapsed": false,
    "pycharm": {
     "name": "#%% md\n"
    }
   }
  },
  {
   "cell_type": "code",
   "execution_count": null,
   "outputs": [],
   "source": [
    "params = get_params(opt_state)\n",
    "test_batch_size = 10000 # 10 episodes\n",
    "test_loss = control_autoencoder.loss_jit(params,\n",
    "                                         testing_data['x'][:test_batch_size, :],\n",
    "                                         testing_data['dx'][:test_batch_size, :],\n",
    "                                         testing_data['u'][:test_batch_size, :],\n",
    "                                         coefficient_mask, hps)['total']\n",
    "print(f\"Loss on large test batch: {round(test_loss, 6)}\")"
   ],
   "metadata": {
    "collapsed": false,
    "pycharm": {
     "name": "#%%\n"
    }
   }
  },
  {
   "cell_type": "markdown",
   "source": [
    "## Visualizations"
   ],
   "metadata": {
    "collapsed": false,
    "pycharm": {
     "name": "#%% md\n"
    }
   }
  }
 ],
 "metadata": {
  "kernelspec": {
   "display_name": "Python 3",
   "language": "python",
   "name": "python3"
  },
  "language_info": {
   "codemirror_mode": {
    "name": "ipython",
    "version": 2
   },
   "file_extension": ".py",
   "mimetype": "text/x-python",
   "name": "python",
   "nbconvert_exporter": "python",
   "pygments_lexer": "ipython2",
   "version": "2.7.6"
  }
 },
 "nbformat": 4,
 "nbformat_minor": 0
}